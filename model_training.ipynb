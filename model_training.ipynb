{
 "cells": [
  {
   "cell_type": "code",
   "execution_count": 8,
   "metadata": {},
   "outputs": [
    {
     "name": "stdout",
     "output_type": "stream",
     "text": [
      "     Outcome  Battery Level  Phone Charging?\n",
      "0  Dismissed           0.90            False\n",
      "1  Dismissed           0.10            False\n",
      "2  Purchased           0.24             True\n",
      "3  Dismissed           0.13             True\n",
      "4  Purchased           0.94             True\n"
     ]
    }
   ],
   "source": [
    "import pandas as pd\n",
    "\n",
    "rows = [\n",
    "    ['Dismissed', 0.90, False],\n",
    "    ['Dismissed', 0.10, False],\n",
    "    ['Purchased', 0.24, True],\n",
    "    ['Dismissed', 0.13, True],\n",
    "    ['Purchased', 0.94, True],\n",
    "    ['Dismissed', 0.11, False],\n",
    "    ['Purchased', 0.89, True],\n",
    "    ['Dismissed', 0.06, False],\n",
    "    ['Purchased', 0.76, True],\n",
    "    ['Dismissed', 0.22, False],\n",
    "    ['Purchased', 0.91, True],\n",
    "    ['Dismissed', 0.05, False],\n",
    "    ['Purchased', 0.83, True],\n",
    "    ['Dismissed', 0.14, False],\n",
    "    ['Purchased', 0.92, True],\n",
    "    ['Dismissed', 0.08, False],\n",
    "    ['Purchased', 0.88, True],\n",
    "    ['Dismissed', 0.18, False],\n",
    "    ['Purchased', 0.93, True],\n",
    "    ['Dismissed', 0.07, False],\n",
    "    ['Purchased', 0.85, True],\n",
    "    ['Dismissed', 0.13, False],\n",
    "    ['Purchased', 0.90, True],\n",
    "    ['Dismissed', 0.10, False],\n",
    "    ['Purchased', 0.84, True],\n",
    "    ['Dismissed', 0.16, False],\n",
    "    ['Purchased', 0.91, True],\n",
    "    ['Dismissed', 0.09, False],\n",
    "    ['Purchased', 0.86, True],\n",
    "    ['Dismissed', 0.14, False],\n",
    "    ['Purchased', 0.95, True],\n",
    "    ['Dismissed', 0.05, False],\n",
    "    ['Purchased', 0.82, True],\n",
    "    ['Dismissed', 0.18, False],\n",
    "    ['Purchased', 0.93, True],\n",
    "    ['Dismissed', 0.07, False],\n",
    "    ['Purchased', 0.87, True],\n",
    "    ['Dismissed', 0.13, False],\n",
    "    ['Purchased', 0.90, True],\n",
    "    ['Dismissed', 0.10, False],\n",
    "    ['Purchased', 0.84, True],\n",
    "    ['Dismissed', 0.16, False],\n",
    "    ['Purchased', 0.92, True],\n",
    "    ['Dismissed', 0.08, False],\n",
    "    ['Purchased', 0.88, True],\n",
    "    ['Dismissed', 0.12, False],\n",
    "    ['Purchased', 0.91, True],\n",
    "    ['Dismissed', 0.09, False],\n",
    "    ['Purchased', 0.86, True],\n",
    "    ['Dismissed', 0.14, False],\n",
    "    ['Purchased', 0.94, True],\n",
    "    ['Dismissed', 0.06, False]\n",
    "]\n",
    "data = pd.DataFrame(rows, columns=['Outcome', 'Battery Level', 'Phone Charging?'])\n",
    "print(data.head(5))"
   ]
  },
  {
   "cell_type": "code",
   "execution_count": 9,
   "metadata": {},
   "outputs": [],
   "source": [
    "from sklearn.model_selection import train_test_split\n",
    "\n",
    "X = data.drop(\"Outcome\", axis=1)\n",
    "Y = data[\"Outcome\"]\n",
    "\n",
    "X_train, X_test, Y_train, Y_test = train_test_split(X, Y, test_size=0.2, shuffle=True)\n"
   ]
  },
  {
   "cell_type": "code",
   "execution_count": 10,
   "metadata": {},
   "outputs": [
    {
     "name": "stdout",
     "output_type": "stream",
     "text": [
      "              precision    recall  f1-score   support\n",
      "\n",
      "   Dismissed       1.00      1.00      1.00         5\n",
      "   Purchased       1.00      1.00      1.00         6\n",
      "\n",
      "    accuracy                           1.00        11\n",
      "   macro avg       1.00      1.00      1.00        11\n",
      "weighted avg       1.00      1.00      1.00        11\n",
      "\n"
     ]
    }
   ],
   "source": [
    "from sklearn.ensemble import RandomForestClassifier\n",
    "from sklearn.metrics import classification_report\n",
    "\n",
    "classifier = RandomForestClassifier()\n",
    "classifier.fit(X_train, Y_train)\n",
    "Y_pred = classifier.predict(X_test)\n",
    "print(classification_report(Y_test, Y_pred, zero_division=1))"
   ]
  },
  {
   "cell_type": "code",
   "execution_count": 11,
   "metadata": {},
   "outputs": [
    {
     "name": "stderr",
     "output_type": "stream",
     "text": [
      "/Users/krausefx/Library/Python/3.9/lib/python/site-packages/sklearn/utils/deprecation.py:103: FutureWarning: Attribute `n_features_` was deprecated in version 1.0 and will be removed in 1.2. Use `n_features_in_` instead.\n",
      "  warnings.warn(msg, category=FutureWarning)\n"
     ]
    }
   ],
   "source": [
    "import coremltools\n",
    "\n",
    "coreml_model = coremltools.converters.sklearn.convert(classifier, input_features=\"input\")\n",
    "coreml_model.short_description = \"My first model\"\n",
    "coreml_model.save(\"ContextCoreMLDemo/MyFirstCustomModel.mlmodel\")"
   ]
  }
 ],
 "metadata": {
  "kernelspec": {
   "display_name": "Python 3",
   "language": "python",
   "name": "python3"
  },
  "language_info": {
   "codemirror_mode": {
    "name": "ipython",
    "version": 3
   },
   "file_extension": ".py",
   "mimetype": "text/x-python",
   "name": "python",
   "nbconvert_exporter": "python",
   "pygments_lexer": "ipython3",
   "version": "3.9.6"
  }
 },
 "nbformat": 4,
 "nbformat_minor": 2
}
